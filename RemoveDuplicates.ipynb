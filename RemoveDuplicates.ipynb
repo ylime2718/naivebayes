{
 "cells": [
  {
   "cell_type": "code",
   "execution_count": 1,
   "id": "0719a8c1",
   "metadata": {},
   "outputs": [],
   "source": [
    "import hashlib"
   ]
  },
  {
   "cell_type": "code",
   "execution_count": 5,
   "id": "142ac6f3",
   "metadata": {},
   "outputs": [],
   "source": [
    "cleaned_file_path = \"BoysTrainCleaned.txt\"\n",
    "original_file_path = \"BoysTrain.txt\""
   ]
  },
  {
   "cell_type": "code",
   "execution_count": 6,
   "id": "e2e7105e",
   "metadata": {},
   "outputs": [],
   "source": [
    "completed_lines = set()"
   ]
  },
  {
   "cell_type": "code",
   "execution_count": 7,
   "id": "d0cbf410",
   "metadata": {},
   "outputs": [],
   "source": [
    "cleaned_file = open(cleaned_file_path,\"w\")"
   ]
  },
  {
   "cell_type": "code",
   "execution_count": 8,
   "id": "b42c5e70",
   "metadata": {},
   "outputs": [],
   "source": [
    "for line in open(original_file_path,\"r\"):\n",
    "    hashVal = hashlib.md5(line.rstrip().encode('utf-8')).hexdigest()\n",
    "    if hashVal not in completed_lines:\n",
    "        cleaned_file.write(line)\n",
    "        completed_lines.add(hashVal)"
   ]
  },
  {
   "cell_type": "code",
   "execution_count": 9,
   "id": "d7c449ba",
   "metadata": {},
   "outputs": [],
   "source": [
    "cleaned_file.close()"
   ]
  },
  {
   "cell_type": "code",
   "execution_count": 15,
   "id": "7a191c84",
   "metadata": {},
   "outputs": [],
   "source": [
    "cleaned_file_path = \"GirlsTrainCleaned.txt\"\n",
    "original_file_path = \"GirlsTrain.txt\""
   ]
  },
  {
   "cell_type": "code",
   "execution_count": 16,
   "id": "72a4ed2a",
   "metadata": {},
   "outputs": [],
   "source": [
    "completed_lines_girls = set()"
   ]
  },
  {
   "cell_type": "code",
   "execution_count": 17,
   "id": "2e6b832c",
   "metadata": {},
   "outputs": [],
   "source": [
    "cleaned_file = open(cleaned_file_path,\"w\")"
   ]
  },
  {
   "cell_type": "code",
   "execution_count": 18,
   "id": "1dbd2383",
   "metadata": {},
   "outputs": [],
   "source": [
    "for line in open(original_file_path,\"r\"):\n",
    "    hashVal = hashlib.md5(line.rstrip().encode('utf-8')).hexdigest()\n",
    "    if hashVal not in completed_lines_girls:\n",
    "        cleaned_file.write(line)\n",
    "        completed_lines_girls.add(hashVal)"
   ]
  },
  {
   "cell_type": "code",
   "execution_count": 19,
   "id": "e9f27660",
   "metadata": {},
   "outputs": [],
   "source": [
    "cleaned_file.close()"
   ]
  },
  {
   "cell_type": "code",
   "execution_count": null,
   "id": "0be09e25",
   "metadata": {},
   "outputs": [],
   "source": []
  }
 ],
 "metadata": {
  "kernelspec": {
   "display_name": "Python 3 (ipykernel)",
   "language": "python",
   "name": "python3"
  },
  "language_info": {
   "codemirror_mode": {
    "name": "ipython",
    "version": 3
   },
   "file_extension": ".py",
   "mimetype": "text/x-python",
   "name": "python",
   "nbconvert_exporter": "python",
   "pygments_lexer": "ipython3",
   "version": "3.9.12"
  }
 },
 "nbformat": 4,
 "nbformat_minor": 5
}
